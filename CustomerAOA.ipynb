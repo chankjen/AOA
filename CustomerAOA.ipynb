{
 "cells": [
  {
   "cell_type": "code",
   "execution_count": 1,
   "id": "8817f2d4-b060-4701-908a-b22cb18fcd89",
   "metadata": {},
   "outputs": [
    {
     "name": "stdout",
     "output_type": "stream",
     "text": [
      "--- Raw Data ---\n",
      "   CustomerID   Age  Salary         City\n",
      "0           1  23.0   52000      Toronto\n",
      "1           2  23.0   48000  Mississauga\n",
      "2           3  67.0   80000     New York\n",
      "3           4  32.0   55000      Toronto\n",
      "4           5  19.0   21000       Boston\n",
      "5           6  21.0   45000       Boston\n",
      "6           7  67.0   82000     New York\n",
      "7           8   NaN   60000     Waterloo\n",
      "\n",
      "--- Info ---\n",
      "<class 'pandas.core.frame.DataFrame'>\n",
      "RangeIndex: 8 entries, 0 to 7\n",
      "Data columns (total 4 columns):\n",
      " #   Column      Non-Null Count  Dtype  \n",
      "---  ------      --------------  -----  \n",
      " 0   CustomerID  8 non-null      int64  \n",
      " 1   Age         7 non-null      float64\n",
      " 2   Salary      8 non-null      int64  \n",
      " 3   City        8 non-null      object \n",
      "dtypes: float64(1), int64(2), object(1)\n",
      "memory usage: 388.0+ bytes\n",
      "None\n"
     ]
    }
   ],
   "source": [
    "import pandas as pd\n",
    "import numpy as np\n",
    "import matplotlib.pyplot as plt\n",
    "import seaborn as sns\n",
    "import squarify\n",
    "\n",
    "# Sample Raw Data (with intentional issues)\n",
    "data = {\n",
    "    'CustomerID': [1, 2, 3, 4, 5, 6, 7, 8],\n",
    "    'Age': [23, 23, 67, 32, 19, 21, 67, None],  # Missing value\n",
    "    'Salary': [52000, 48000, 80000, 55000, 21000, 45000, 82000, 60000],\n",
    "    'City': ['Toronto', 'Mississauga', 'New York', 'Toronto', 'Boston', 'Boston', 'New York', 'Waterloo']\n",
    "}\n",
    "\n",
    "df = pd.DataFrame(data)\n",
    "print(\"--- Raw Data ---\")\n",
    "print(df)\n",
    "print(\"\\n--- Info ---\")\n",
    "print(df.info())"
   ]
  },
  {
   "cell_type": "code",
   "execution_count": 2,
   "id": "eedc28f3-cf2f-4367-991f-0b72bf8292fa",
   "metadata": {},
   "outputs": [
    {
     "data": {
      "application/vnd.microsoft.datawrangler.viewer.v0+json": {
       "columns": [
        {
         "name": "index",
         "rawType": "object",
         "type": "string"
        },
        {
         "name": "CustomerID",
         "rawType": "float64",
         "type": "float"
        },
        {
         "name": "Age",
         "rawType": "float64",
         "type": "float"
        },
        {
         "name": "Salary",
         "rawType": "float64",
         "type": "float"
        }
       ],
       "ref": "d4467ed1-6d4a-4886-80b2-fb470160cb53",
       "rows": [
        [
         "count",
         "8.0",
         "7.0",
         "8.0"
        ],
        [
         "mean",
         "4.5",
         "36.0",
         "55375.0"
        ],
        [
         "std",
         "2.449489742783178",
         "21.563858652847824",
         "19610.03751726578"
        ],
        [
         "min",
         "1.0",
         "19.0",
         "21000.0"
        ],
        [
         "25%",
         "2.75",
         "22.0",
         "47250.0"
        ],
        [
         "50%",
         "4.5",
         "23.0",
         "53500.0"
        ],
        [
         "75%",
         "6.25",
         "49.5",
         "65000.0"
        ],
        [
         "max",
         "8.0",
         "67.0",
         "82000.0"
        ]
       ],
       "shape": {
        "columns": 3,
        "rows": 8
       }
      },
      "text/html": [
       "<div>\n",
       "<style scoped>\n",
       "    .dataframe tbody tr th:only-of-type {\n",
       "        vertical-align: middle;\n",
       "    }\n",
       "\n",
       "    .dataframe tbody tr th {\n",
       "        vertical-align: top;\n",
       "    }\n",
       "\n",
       "    .dataframe thead th {\n",
       "        text-align: right;\n",
       "    }\n",
       "</style>\n",
       "<table border=\"1\" class=\"dataframe\">\n",
       "  <thead>\n",
       "    <tr style=\"text-align: right;\">\n",
       "      <th></th>\n",
       "      <th>CustomerID</th>\n",
       "      <th>Age</th>\n",
       "      <th>Salary</th>\n",
       "    </tr>\n",
       "  </thead>\n",
       "  <tbody>\n",
       "    <tr>\n",
       "      <th>count</th>\n",
       "      <td>8.00000</td>\n",
       "      <td>7.000000</td>\n",
       "      <td>8.000000</td>\n",
       "    </tr>\n",
       "    <tr>\n",
       "      <th>mean</th>\n",
       "      <td>4.50000</td>\n",
       "      <td>36.000000</td>\n",
       "      <td>55375.000000</td>\n",
       "    </tr>\n",
       "    <tr>\n",
       "      <th>std</th>\n",
       "      <td>2.44949</td>\n",
       "      <td>21.563859</td>\n",
       "      <td>19610.037517</td>\n",
       "    </tr>\n",
       "    <tr>\n",
       "      <th>min</th>\n",
       "      <td>1.00000</td>\n",
       "      <td>19.000000</td>\n",
       "      <td>21000.000000</td>\n",
       "    </tr>\n",
       "    <tr>\n",
       "      <th>25%</th>\n",
       "      <td>2.75000</td>\n",
       "      <td>22.000000</td>\n",
       "      <td>47250.000000</td>\n",
       "    </tr>\n",
       "    <tr>\n",
       "      <th>50%</th>\n",
       "      <td>4.50000</td>\n",
       "      <td>23.000000</td>\n",
       "      <td>53500.000000</td>\n",
       "    </tr>\n",
       "    <tr>\n",
       "      <th>75%</th>\n",
       "      <td>6.25000</td>\n",
       "      <td>49.500000</td>\n",
       "      <td>65000.000000</td>\n",
       "    </tr>\n",
       "    <tr>\n",
       "      <th>max</th>\n",
       "      <td>8.00000</td>\n",
       "      <td>67.000000</td>\n",
       "      <td>82000.000000</td>\n",
       "    </tr>\n",
       "  </tbody>\n",
       "</table>\n",
       "</div>"
      ],
      "text/plain": [
       "       CustomerID        Age        Salary\n",
       "count     8.00000   7.000000      8.000000\n",
       "mean      4.50000  36.000000  55375.000000\n",
       "std       2.44949  21.563859  19610.037517\n",
       "min       1.00000  19.000000  21000.000000\n",
       "25%       2.75000  22.000000  47250.000000\n",
       "50%       4.50000  23.000000  53500.000000\n",
       "75%       6.25000  49.500000  65000.000000\n",
       "max       8.00000  67.000000  82000.000000"
      ]
     },
     "execution_count": 2,
     "metadata": {},
     "output_type": "execute_result"
    }
   ],
   "source": [
    "df.describe()"
   ]
  },
  {
   "cell_type": "code",
   "execution_count": 3,
   "id": "d6f84a60-9628-47f3-91c5-8a0aeb1e289c",
   "metadata": {},
   "outputs": [
    {
     "data": {
      "application/vnd.microsoft.datawrangler.viewer.v0+json": {
       "columns": [
        {
         "name": "index",
         "rawType": "object",
         "type": "string"
        },
        {
         "name": "0",
         "rawType": "int64",
         "type": "integer"
        }
       ],
       "ref": "0e530489-cbd3-49ad-9fae-633d90ad13f1",
       "rows": [
        [
         "CustomerID",
         "0"
        ],
        [
         "Age",
         "1"
        ],
        [
         "Salary",
         "0"
        ],
        [
         "City",
         "0"
        ]
       ],
       "shape": {
        "columns": 1,
        "rows": 4
       }
      },
      "text/plain": [
       "CustomerID    0\n",
       "Age           1\n",
       "Salary        0\n",
       "City          0\n",
       "dtype: int64"
      ]
     },
     "execution_count": 3,
     "metadata": {},
     "output_type": "execute_result"
    }
   ],
   "source": [
    "df.isnull().sum()"
   ]
  },
  {
   "cell_type": "code",
   "execution_count": 4,
   "id": "b4830ffd-3a1f-46e1-b9dd-82ed0c18c2c5",
   "metadata": {},
   "outputs": [
    {
     "name": "stdout",
     "output_type": "stream",
     "text": [
      "\n",
      "--- Cleaned Data ---\n",
      "   CustomerID  Age  Salary         City\n",
      "0           1   23   52000      Toronto\n",
      "1           2   23   48000  Mississauga\n",
      "2           3   67   80000     New York\n",
      "3           4   32   55000      Toronto\n",
      "4           5   19   21000       Boston\n",
      "5           6   21   45000       Boston\n",
      "6           7   67   82000     New York\n",
      "7           8   23   60000     Waterloo\n",
      "\n",
      "Missing values?\n",
      "CustomerID    0\n",
      "Age           0\n",
      "Salary        0\n",
      "City          0\n",
      "dtype: int64\n"
     ]
    },
    {
     "name": "stderr",
     "output_type": "stream",
     "text": [
      "C:\\Users\\Zeni_Bets\\AppData\\Local\\Temp\\ipykernel_9364\\229594471.py:3: FutureWarning: A value is trying to be set on a copy of a DataFrame or Series through chained assignment using an inplace method.\n",
      "The behavior will change in pandas 3.0. This inplace method will never work because the intermediate object on which we are setting values always behaves as a copy.\n",
      "\n",
      "For example, when doing 'df[col].method(value, inplace=True)', try using 'df.method({col: value}, inplace=True)' or df[col] = df[col].method(value) instead, to perform the operation inplace on the original object.\n",
      "\n",
      "\n",
      "  df['Age'].fillna(median_age, inplace=True)\n"
     ]
    }
   ],
   "source": [
    "# 1. Handle Missing Values: Fill with the median age\n",
    "median_age = df['Age'].median()\n",
    "df['Age'].fillna(median_age, inplace=True)\n",
    "df['Age'] = df['Age'].astype(int) # Convert to integer\n",
    "\n",
    "# 2. Verify the cleanup\n",
    "print(\"\\n--- Cleaned Data ---\")\n",
    "print(df)\n",
    "print(f\"\\nMissing values?\\n{df.isnull().sum()}\")"
   ]
  },
  {
   "cell_type": "code",
   "execution_count": 5,
   "id": "13a4628e-a4f2-45fb-bf6a-afa3ec9039ba",
   "metadata": {},
   "outputs": [
    {
     "name": "stdout",
     "output_type": "stream",
     "text": [
      "\n",
      "--- Data with Generalized Attributes ---\n",
      "   CustomerID  Age    Age_Group  Salary Income_Level         City Country\n",
      "0           1   23        Young   52000       Medium      Toronto  Canada\n",
      "1           2   23        Young   48000       Medium  Mississauga  Canada\n",
      "2           3   67       Senior   80000         High     New York     USA\n",
      "3           4   32  Middle-Aged   55000       Medium      Toronto  Canada\n",
      "4           5   19        Young   21000          Low       Boston     USA\n",
      "5           6   21        Young   45000       Medium       Boston     USA\n",
      "6           7   67       Senior   82000         High     New York     USA\n",
      "7           8   23        Young   60000       Medium     Waterloo  Canada\n"
     ]
    }
   ],
   "source": [
    "# Define Concept Hierarchies\n",
    "# Hierarchy for 'Age'\n",
    "def generalize_age(age):\n",
    "    if age < 25:\n",
    "        return 'Young'\n",
    "    elif age < 60:\n",
    "        return 'Middle-Aged'\n",
    "    else:\n",
    "        return 'Senior'\n",
    "\n",
    "# Hierarchy for 'Salary'\n",
    "def generalize_salary(salary):\n",
    "    if salary < 30000:\n",
    "        return 'Low'\n",
    "    elif salary < 70000:\n",
    "        return 'Medium'\n",
    "    else:\n",
    "        return 'High'\n",
    "\n",
    "# Hierarchy for 'City' (Geography)\n",
    "city_to_country = {\n",
    "    'Toronto': 'Canada',\n",
    "    'Mississauga': 'Canada',\n",
    "    'Waterloo': 'Canada',\n",
    "    'New York': 'USA',\n",
    "    'Boston': 'USA'\n",
    "}\n",
    "\n",
    "# Apply the generalizations to create new columns\n",
    "df['Age_Group'] = df['Age'].apply(generalize_age)\n",
    "df['Income_Level'] = df['Salary'].apply(generalize_salary)\n",
    "df['Country'] = df['City'].map(city_to_country)\n",
    "\n",
    "print(\"\\n--- Data with Generalized Attributes ---\")\n",
    "print(df[['CustomerID', 'Age', 'Age_Group', 'Salary', 'Income_Level', 'City', 'Country']])"
   ]
  },
  {
   "cell_type": "code",
   "execution_count": 6,
   "id": "87c019c5-6d55-4a68-b2fc-292184984868",
   "metadata": {},
   "outputs": [
    {
     "name": "stdout",
     "output_type": "stream",
     "text": [
      "\n",
      "--- AOA Result (Generalized Relation) ---\n",
      "     Age_Group Income_Level Country  Count\n",
      "0  Middle-Aged       Medium  Canada      1\n",
      "1       Senior         High     USA      2\n",
      "2        Young          Low     USA      1\n",
      "3        Young       Medium  Canada      3\n",
      "4        Young       Medium     USA      1\n"
     ]
    }
   ],
   "source": [
    "# We are no longer interested in the original low-level attributes.\n",
    "# Let's select only the generalized attributes for analysis.\n",
    "generalized_df = df[['Age_Group', 'Income_Level', 'Country']].copy()\n",
    "\n",
    "# This is the AOA aggregation step (similar to a powerful GROUP BY).\n",
    "# We count the number of original tuples merged into each generalized tuple.\n",
    "aoa_result = generalized_df.groupby(['Age_Group', 'Income_Level', 'Country']).size().reset_index(name='Count')\n",
    "\n",
    "print(\"\\n--- AOA Result (Generalized Relation) ---\")\n",
    "print(aoa_result)"
   ]
  },
  {
   "cell_type": "code",
   "execution_count": null,
   "id": "59df2e5f-5580-4b95-98a2-6666ae793034",
   "metadata": {},
   "outputs": [
    {
     "data": {
      "image/png": "[encoded data removed]",
      "text/plain": [
       "<Figure size 1000x500 with 2 Axes>"
      ]
     },
     "metadata": {},
     "output_type": "display_data"
    },
    {
     "data": {
      "image/png": "[encoded data removed]",
      "text/plain": [
       "<Figure size 1200x800 with 1 Axes>"
      ]
     },
     "metadata": {},
     "output_type": "display_data"
    }
   ],
   "source": [
    "# Visualization of the AOA Result\n",
    "# 1. Bar Plot: Count by Age Group and Income Level\n",
    "plt.figure(figsize=(10, 5))\n",
    "plt.subplot(1, 2, 1)\n",
    "sns.barplot(data=aoa_result, x='Age_Group', y='Count', hue='Income_Level', palette='viridis')\n",
    "plt.title('Customer Count by Age and Income')\n",
    "plt.legend(title='Income Level')\n",
    "\n",
    "# 2. Stacked Bar Chart: Distribution across Countries\n",
    "plt.subplot(1, 2, 2)\n",
    "# Pivot the data for a stacked bar chart\n",
    "pivot_df = aoa_result.pivot_table(index='Age_Group', columns='Country', values='Count', fill_value=0)\n",
    "pivot_df.plot(kind='bar', stacked=True, ax=plt.gca()) # plt.gca() gets the current axis\n",
    "plt.title('Customer Count by Age and Country')\n",
    "plt.ylabel('Count')\n",
    "plt.legend(title='Country')\n",
    "plt.tight_layout()\n",
    "plt.show()\n",
    "\n",
    "# 3. Treemap (Excellent for hierarchical data)\n",
    "plt.figure(figsize=(12, 8))\n",
    "# Create labels for the treemap: \"AgeGroup-IncomeLevel (Count)\"\n",
    "labels = aoa_result.apply(lambda row: f\"{row['Age_Group']}-{row['Income_Level']}\\n({row['Count']})\", axis=1)\n",
    "sizes = aoa_result['Count']\n",
    "colors = plt.cm.Set3(range(len(sizes)))\n",
    "\n",
    "squarify.plot(sizes=sizes, label=labels, color=colors, alpha=0.7)\n",
    "plt.axis('off')\n",
    "plt.title('Customer Segments (Treemap) - Area represents Count')\n",
    "plt.show()\n"
   ]
  },
  {
   "cell_type": "code",
   "execution_count": null,
   "id": "52f28cf5-e388-48b1-80bd-1cbd48f5c1a7",
   "metadata": {},
   "outputs": [],
   "source": []
  }
 ],
 "metadata": {
  "kernelspec": {
   "display_name": "Python 3",
   "language": "python",
   "name": "python3"
  },
  "language_info": {
   "codemirror_mode": {
    "name": "ipython",
    "version": 3
   },
   "file_extension": ".py",
   "mimetype": "text/x-python",
   "name": "python",
   "nbconvert_exporter": "python",
   "pygments_lexer": "ipython3",
   "version": "3.13.2"
  }
 },
 "nbformat": 4,
 "nbformat_minor": 5
}
